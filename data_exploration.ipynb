{
 "cells": [
  {
   "cell_type": "code",
   "execution_count": 1,
   "metadata": {},
   "outputs": [],
   "source": [
    "import re\n",
    "import os\n",
    "from bs4 import BeautifulSoup\n",
    "import pandas as pd\n",
    "import csv\n",
    "import nltk\n",
    "from nltk.tokenize import RegexpTokenizer\n",
    "from nltk import word_tokenize\n",
    "from nltk.corpus import stopwords\n",
    "import string\n",
    "import matplotlib.pyplot as plt\n",
    "import random\n",
    "from collections import Counter"
   ]
  },
  {
   "cell_type": "markdown",
   "metadata": {},
   "source": [
    "### get all filename in rcv1"
   ]
  },
  {
   "cell_type": "code",
   "execution_count": 2,
   "metadata": {},
   "outputs": [],
   "source": [
    "rootdir ='C:\\\\Users\\\\li\\\\dissertation\\\\rcv1\\\\'\n",
    "filename = []\n",
    "def listdir(path, list_name):\n",
    "    for file in os.listdir(path):\n",
    "        file_path = os.path.join(path, file)\n",
    "        if os.path.isdir(file_path):\n",
    "            listdir(file_path, list_name)\n",
    "        elif os.path.splitext(file_path)[1]=='.xml':\n",
    "            list_name.append(file_path)\n",
    "listdir(rootdir,filename)"
   ]
  },
  {
   "cell_type": "markdown",
   "metadata": {},
   "source": [
    "### read files / extract information"
   ]
  },
  {
   "cell_type": "code",
   "execution_count": 3,
   "metadata": {},
   "outputs": [],
   "source": [
    "def find(data,whole):\n",
    "    temp = []\n",
    "    info = soup.contents[1]\n",
    "    time_pattern = re.compile(\"newsitem\\sdate=\\\"(.*?)\\\"\")\n",
    "    date = time_pattern.findall(str(info))\n",
    "    item_pattern = re.compile(\"itemid=\\\"(.*?)\\\"\")\n",
    "    itemid = item_pattern.findall(str(info))\n",
    "    \n",
    "    code_pattern = re.compile(\"code=\\\"(.*?)\\\"\\>\")\n",
    "    codes_ = soup.find_all(\"code\")\n",
    "    codes = code_pattern.findall(str(codes_))\n",
    "    \n",
    "    pattern = re.compile(\"\\>(.*?)\\<\")\n",
    "    title_ = soup.find_all(\"title\")\n",
    "    title = pattern.findall(str(title_))\n",
    "    headline_ = soup.find_all(\"headline\")\n",
    "    headline = pattern.findall(str(headline_))\n",
    "    byline_ = soup.find_all(\"byline\")\n",
    "    byline = pattern.findall(str(byline_))\n",
    "    dateline_ = soup.find_all(\"dateline\")\n",
    "    dateline = pattern.findall(str(dateline_))\n",
    "    text_ = soup.find_all(\"text\")\n",
    "    text = pattern.findall(str(text_))\n",
    "    text_merge = ''\n",
    "    for item in text:\n",
    "        text_merge += item\n",
    "    temp.append(date[0])\n",
    "    temp.append(itemid[0])\n",
    "    temp.append(codes)\n",
    "    temp.append(title[0])\n",
    "    temp.append(headline[0])\n",
    "    temp.append(byline)\n",
    "    temp.append(dateline)\n",
    "    temp.append(text)\n",
    "    whole.append(temp)"
   ]
  },
  {
   "cell_type": "code",
   "execution_count": 4,
   "metadata": {},
   "outputs": [
    {
     "name": "stdout",
     "output_type": "stream",
     "text": [
      "Wall time: 3min 1s\n"
     ]
    }
   ],
   "source": [
    "%%time\n",
    "whole = []\n",
    "for file in filename:\n",
    "    data = open(file, encoding=\"iso-8859-1\").read()\n",
    "    soup = BeautifulSoup(data,'lxml')\n",
    "    find(data, whole)"
   ]
  },
  {
   "cell_type": "code",
   "execution_count": 5,
   "metadata": {},
   "outputs": [
    {
     "name": "stdout",
     "output_type": "stream",
     "text": [
      "['2286', ['MEX', 'E11', 'ECAT', 'M11', 'M12', 'MCAT'], 'MEXICO: Recovery excitement brings Mexican markets to life.', [\"Emerging evidence that Mexico's economy was back on the recovery track sent Mexican markets into a buzz of excitement Tuesday, with stocks closing at record highs and interest rates at 19-month lows.\", '\"Mexico has been trying to stage a recovery since the beginning of this year and it\\'s always been getting ahead of itself in terms of fundamentals,\" said Matthew Hickman of Lehman Brothers in New York.', '\"Now we\\'re at the point where the fundamentals are with us. The history is now falling out of view.\"', 'That history is one etched into the minds of all investors in Mexico: an economy in crisis since December 1994, a free-falling peso and stubbornly high interest rates.', 'This week, however, second-quarter gross domestic product was reported up 7.2 percent, much stronger than most analysts had expected. Interest rates on governent Treasury bills, or Cetes, in the secondary market fell on Tuesday to 23.90 percent, their lowest level since Jan. 25, 1995.', \"The stock market's main price index rallied 77.12 points, or 2.32 percent, to a record 3,401.79 points, with volume at a frenzied 159.89 million shares.\", \"Confounding all expectations has been the strength of the peso, which ended higher in its longer-term contracts on Tuesday despite the secondary Cetes drop and expectations of lower benchmark rates in Tuesday's weekly auction.\", 'With U.S. long-term interest rates expected to remain steady after the Federal Reserve refrained from raising short-term rates on Tuesday, the attraction of Mexico, analysts say, is that it offers robust returns for foreigners and growing confidence that they will not fall victim to a crumbling peso.', '\"The focus is back on Mexican fundamentals,\" said Lars Schonander, head of researcher at Santander in Mexico City. \"You have a continuing decline in inflation, a stronger-than-expected GDP growth figure and the lack of any upward move in U.S. rates.\"', \"Other factors were also at play, said Felix Boni, head of research at James Capel in Mexico City, such as positive technicals and economic uncertainty in Argentina, which has put it and neighbouring Brazil's markets at risk.\", '\"There\\'s a movement out of South American markets into Mexico,\" he said. But Boni was also wary of what he said could be \"a lot of hype.\"', 'The economic recovery was still export-led, and evidence was patchy that the domestic consumer was back with a vengeance. Also, corporate earnings need to grow strongly to justify the run-up in the stock market, he said.']]\n"
     ]
    }
   ],
   "source": [
    "output = []\n",
    "for item in whole:\n",
    "    temp = []\n",
    "    temp.append(item[1])\n",
    "    temp.append(item[2])\n",
    "    temp.append(item[3])\n",
    "    temp.append(item[7])\n",
    "    output.append(temp)\n",
    "    print(temp)\n",
    "    break"
   ]
  },
  {
   "cell_type": "code",
   "execution_count": 292,
   "metadata": {},
   "outputs": [],
   "source": [
    "df = pd.DataFrame(output)\n",
    "df.rename(columns={0:'itemid',1:'codes',2:'title',3:'text'},inplace=True)\n",
    "df.to_csv(\"id_label_text_small.csv\", index = False)"
   ]
  },
  {
   "cell_type": "markdown",
   "metadata": {},
   "source": [
    "### data clean"
   ]
  },
  {
   "cell_type": "code",
   "execution_count": 5,
   "metadata": {},
   "outputs": [],
   "source": [
    "stop = stopwords.words('english') #+ list(string.punctuation)\n",
    "stemmer = nltk.PorterStemmer()\n",
    "\n",
    "def text_clean(text):\n",
    "    #tokenisation\n",
    "    tokenizer = RegexpTokenizer(r'\\w+')\n",
    "    tokens = tokenizer.tokenize(text)\n",
    "    # stemming\n",
    "    for i in range(len(tokens)):\n",
    "        tokens[i] = stemmer.stem(tokens[i])\n",
    "    # remove stop words\n",
    "    test_remove_ = [i for i in tokens if i not in stop]\n",
    "    return test_remove_\n",
    "\n",
    "def code_clean(code):\n",
    "    temp = code.replace(\"[\", \"\").replace(\"]\",\"\").replace(\"\\'\", \"\").replace(\" \", \"\")\n",
    "    return temp.split(\",\")"
   ]
  },
  {
   "cell_type": "code",
   "execution_count": 6,
   "metadata": {},
   "outputs": [],
   "source": [
    "# build dictionary as container\n",
    "info = {}\n",
    "for news in whole:\n",
    "    temp = {}\n",
    "    temp['date'] = news[0]\n",
    "    temp['itemid'] = news[1]\n",
    "    temp['codes'] = news[2]\n",
    "    temp['title'] = news[3]\n",
    "    temp['headline'] = news[4]\n",
    "    temp['byline'] = news[5]\n",
    "    temp['dateline'] = news[6]\n",
    "    temp['text'] = news[7]\n",
    "    info[news[1]] = temp"
   ]
  },
  {
   "cell_type": "code",
   "execution_count": 8,
   "metadata": {},
   "outputs": [],
   "source": [
    "# clean text and codes\n",
    "for itemid, content in info.items():\n",
    "    content['text'] = text_clean(str(content['text']))\n",
    "    content['codes'] = code_clean(str(content['codes']))"
   ]
  },
  {
   "cell_type": "markdown",
   "metadata": {},
   "source": [
    "### data exploration"
   ]
  },
  {
   "cell_type": "markdown",
   "metadata": {},
   "source": [
    "1. text length"
   ]
  },
  {
   "cell_type": "code",
   "execution_count": 54,
   "metadata": {},
   "outputs": [],
   "source": [
    "length_each_news = []\n",
    "for itemid, content in info.items():\n",
    "    length_each_news.append(int(len(content['text']) / 10))\n",
    "sorted_length_each_news = sorted(length_each_news)"
   ]
  },
  {
   "cell_type": "code",
   "execution_count": 57,
   "metadata": {},
   "outputs": [],
   "source": [
    "len_rank = Counter(length_each_news)\n",
    "len_rank = sorted(len_rank.items(), key=lambda d: d[0], reverse = False)\n",
    "len_freq = [pair[1] for pair in len_rank]"
   ]
  },
  {
   "cell_type": "code",
   "execution_count": 59,
   "metadata": {},
   "outputs": [
    {
     "data": {
      "image/png": "[encoded data removed]",
      "text/plain": [
       "<Figure size 1296x288 with 1 Axes>"
      ]
     },
     "metadata": {},
     "output_type": "display_data"
    }
   ],
   "source": [
    "# x-axis: (words count / 10) after stemming\n",
    "# y-axis: amount of news with this lence\n",
    "plt.figure(figsize=(18,4))\n",
    "plt.plot(range(0, len(len_freq)), len_freq, 'r-')\n",
    "plt.grid()\n",
    "plt.show()"
   ]
  },
  {
   "cell_type": "markdown",
   "metadata": {},
   "source": [
    "most news: 0 - 500 words\n",
    "\n",
    "around 40% news: 0 - 100 words"
   ]
  },
  {
   "cell_type": "code",
   "execution_count": 64,
   "metadata": {},
   "outputs": [
    {
     "data": {
      "image/png": "[encoded data removed]",
      "text/plain": [
       "<Figure size 1296x288 with 1 Axes>"
      ]
     },
     "metadata": {},
     "output_type": "display_data"
    }
   ],
   "source": [
    "# Most news only has less than 500 words, over 40000 news has around 50 words (after stemming)\n",
    "plt.figure(figsize=(18,4))\n",
    "plt.plot(range(0, 50), len_freq[:50], 'r-')\n",
    "plt.grid()\n",
    "plt.show()"
   ]
  },
  {
   "cell_type": "markdown",
   "metadata": {},
   "source": [
    "2. amount of codes for each news"
   ]
  },
  {
   "cell_type": "markdown",
   "metadata": {},
   "source": [
    "most news: 0 - 10 labels"
   ]
  },
  {
   "cell_type": "code",
   "execution_count": 29,
   "metadata": {},
   "outputs": [],
   "source": [
    "codes_each_news = []\n",
    "for itemid, content in info.items():\n",
    "    codes_each_news.append(len(content['codes']))\n",
    "sorted_codes_each_news = sorted(codes_each_news)"
   ]
  },
  {
   "cell_type": "code",
   "execution_count": 44,
   "metadata": {},
   "outputs": [],
   "source": [
    "cat = Counter(codes_each_news)\n",
    "cat = sorted(cat.items(), key=lambda d: d[0], reverse = False)\n",
    "cat_freq = [pair[1] for pair in cat]"
   ]
  },
  {
   "cell_type": "code",
   "execution_count": 45,
   "metadata": {},
   "outputs": [
    {
     "data": {
      "image/png": "[encoded data removed]",
      "text/plain": [
       "<Figure size 1296x288 with 1 Axes>"
      ]
     },
     "metadata": {},
     "output_type": "display_data"
    }
   ],
   "source": [
    "# most news only has less than 10 labels\n",
    "plt.figure(figsize=(18,4))\n",
    "plt.plot(range(0, len(cat)), cat_freq, 'r-')\n",
    "plt.grid()\n",
    "plt.show()"
   ]
  },
  {
   "cell_type": "markdown",
   "metadata": {},
   "source": [
    "3. code frequency(how many times has a label appeared)"
   ]
  },
  {
   "cell_type": "code",
   "execution_count": 78,
   "metadata": {},
   "outputs": [],
   "source": [
    "all_codes = []\n",
    "for itemid, content in info.items():\n",
    "    for item in content['codes']:\n",
    "        all_codes.append(item)"
   ]
  },
  {
   "cell_type": "code",
   "execution_count": 79,
   "metadata": {},
   "outputs": [],
   "source": [
    "random.seed(666)\n",
    "unique_codes = set(all_codes)\n",
    "labels = list(unique_codes)"
   ]
  },
  {
   "cell_type": "code",
   "execution_count": 80,
   "metadata": {},
   "outputs": [],
   "source": [
    "from collections import Counter\n",
    "counter = Counter(all_codes)\n",
    "rank_freq = sorted(counter.items(), key=lambda d: d[1], reverse = False)"
   ]
  },
  {
   "cell_type": "code",
   "execution_count": 16,
   "metadata": {},
   "outputs": [
    {
     "data": {
      "text/plain": [
       "752"
      ]
     },
     "execution_count": 16,
     "metadata": {},
     "output_type": "execute_result"
    }
   ],
   "source": [
    "len(rank_freq)"
   ]
  },
  {
   "cell_type": "code",
   "execution_count": 1,
   "metadata": {},
   "outputs": [],
   "source": [
    "# rank_freq"
   ]
  },
  {
   "cell_type": "code",
   "execution_count": 22,
   "metadata": {},
   "outputs": [],
   "source": [
    "freq = []\n",
    "code_info = []\n",
    "for pair in rank_freq:\n",
    "    code_info.append(pair[0])\n",
    "    freq.append(pair[1])"
   ]
  },
  {
   "cell_type": "code",
   "execution_count": 25,
   "metadata": {},
   "outputs": [
    {
     "data": {
      "image/png": "[encoded data removed]",
      "text/plain": [
       "<Figure size 1296x288 with 1 Axes>"
      ]
     },
     "metadata": {},
     "output_type": "display_data"
    }
   ],
   "source": [
    "# plot all frequencies\n",
    "plt.figure(figsize=(18,4))\n",
    "plt.plot(range(0, len(freq)), freq, 'r-')\n",
    "plt.grid()\n",
    "plt.show()"
   ]
  },
  {
   "cell_type": "markdown",
   "metadata": {},
   "source": [
    "0 - 80 labels: appear 0 - 20 times in the whole dataset\n",
    "\n",
    "250 labels: less than 200 times\n",
    "\n",
    "250 labels: 200 - 1600 times\n",
    "\n",
    "10 labels: over 50000 times"
   ]
  },
  {
   "cell_type": "code",
   "execution_count": 66,
   "metadata": {},
   "outputs": [
    {
     "data": {
      "image/png": "[encoded data removed]",
      "text/plain": [
       "<Figure size 1296x288 with 1 Axes>"
      ]
     },
     "metadata": {},
     "output_type": "display_data"
    }
   ],
   "source": [
    "# near 450 labels only appear less than 1000 times\n",
    "plt.figure(figsize=(18,4))\n",
    "plt.plot(range(0, 500), freq[:500], 'r-')\n",
    "plt.grid()\n",
    "plt.show()"
   ]
  },
  {
   "cell_type": "code",
   "execution_count": 67,
   "metadata": {},
   "outputs": [
    {
     "data": {
      "image/png": "[encoded data removed]",
      "text/plain": [
       "<Figure size 1296x288 with 1 Axes>"
      ]
     },
     "metadata": {},
     "output_type": "display_data"
    }
   ],
   "source": [
    "# 80 labels only appear less than 20 times\n",
    "plt.figure(figsize=(18,4))\n",
    "plt.plot(range(0, 100), freq[:100], 'r-')\n",
    "plt.grid()\n",
    "plt.show()"
   ]
  },
  {
   "cell_type": "code",
   "execution_count": 28,
   "metadata": {},
   "outputs": [
    {
     "data": {
      "image/png": "[encoded data removed]",
      "text/plain": [
       "<Figure size 1296x288 with 1 Axes>"
      ]
     },
     "metadata": {},
     "output_type": "display_data"
    }
   ],
   "source": [
    "# around 10 labels appear over 50000 times\n",
    "plt.figure(figsize=(18,4))\n",
    "plt.plot(range(0, 30), freq[-30:], 'ro')\n",
    "plt.grid()\n",
    "plt.show()"
   ]
  },
  {
   "cell_type": "markdown",
   "metadata": {},
   "source": [
    "4. hierachical labels"
   ]
  },
  {
   "cell_type": "markdown",
   "metadata": {},
   "source": [
    "Topic: CCAT, ECAT, GCAT, MCAT (cat label will apppear without its subclass)\n",
    "    \n",
    "    e.g. CCAT -- C15 -- C151 & C152\n",
    "    \n",
    "Industry: it has hierachical structure, but it has little effect on the classification\n",
    "\n",
    "Region: no hierachical structure"
   ]
  }
 ],
 "metadata": {
  "kernelspec": {
   "display_name": "Python 3",
   "language": "python",
   "name": "python3"
  },
  "language_info": {
   "codemirror_mode": {
    "name": "ipython",
    "version": 3
   },
   "file_extension": ".py",
   "mimetype": "text/x-python",
   "name": "python",
   "nbconvert_exporter": "python",
   "pygments_lexer": "ipython3",
   "version": "3.6.5"
  }
 },
 "nbformat": 4,
 "nbformat_minor": 2
}
