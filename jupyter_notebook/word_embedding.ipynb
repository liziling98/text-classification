{
 "cells": [
  {
   "cell_type": "code",
   "execution_count": 51,
   "metadata": {},
   "outputs": [],
   "source": [
    "import csv\n",
    "import numpy as np\n",
    "import pandas as pd"
   ]
  },
  {
   "cell_type": "markdown",
   "metadata": {},
   "source": [
    "加载已保存的word与index表格文件"
   ]
  },
  {
   "cell_type": "code",
   "execution_count": 8,
   "metadata": {},
   "outputs": [],
   "source": [
    "corpus = []\n",
    "idx = []\n",
    "with open('word_index.csv', newline='') as csvfile:\n",
    "    reader = csv.DictReader(csvfile)\n",
    "    for row in reader:\n",
    "        corpus.append([row['word'], row['index']])\n",
    "    csvfile.close()"
   ]
  },
  {
   "cell_type": "markdown",
   "metadata": {},
   "source": [
    "加载glove embedding文件"
   ]
  },
  {
   "cell_type": "code",
   "execution_count": 10,
   "metadata": {},
   "outputs": [],
   "source": [
    "def glove(embeddingfile):\n",
    "    embeddings_index = {}\n",
    "    for i, line in enumerate(open(embeddingfile, encoding=\"utf8\")):\n",
    "        val = line.split()\n",
    "        try:\n",
    "            embeddings_index[val[0]] = np.asarray(val[1:], dtype='float32')\n",
    "        except ValueError:\n",
    "            pass\n",
    "    return embeddings_index"
   ]
  },
  {
   "cell_type": "code",
   "execution_count": 13,
   "metadata": {},
   "outputs": [],
   "source": [
    "EMBEDDING_FILE = 'glove.840B.300d.txt'\n",
    "embeddings_index = glove(EMBEDDING_FILE)"
   ]
  },
  {
   "cell_type": "markdown",
   "metadata": {},
   "source": [
    "取新闻内出现的word及其对应的embedding，转换成dataframe输出"
   ]
  },
  {
   "cell_type": "code",
   "execution_count": 14,
   "metadata": {},
   "outputs": [],
   "source": [
    "word2idx = {}\n",
    "for i in range(len(corpus)):\n",
    "    word2idx[corpus[i][0]] = corpus[i][1]"
   ]
  },
  {
   "cell_type": "code",
   "execution_count": 15,
   "metadata": {},
   "outputs": [],
   "source": [
    "embedding_matrix = np.zeros((len(word2idx) + 1, 300))"
   ]
  },
  {
   "cell_type": "code",
   "execution_count": 38,
   "metadata": {},
   "outputs": [],
   "source": [
    "for word, i in word2idx.items():\n",
    "    if word in embeddings_index.keys():\n",
    "        embedding_vector = embeddings_index[word]\n",
    "    else:\n",
    "        embedding_vector = np.zeros(300)\n",
    "    embedding_matrix[int(i)] = embedding_vector"
   ]
  },
  {
   "cell_type": "code",
   "execution_count": 55,
   "metadata": {},
   "outputs": [],
   "source": [
    "output = []\n",
    "for i in range(len(word2idx)):\n",
    "    temp = []\n",
    "    temp.append(corpus[i][0])\n",
    "    temp.append(corpus[i][1])\n",
    "    temp.append(embedding_matrix[i])\n",
    "    output.append(temp)"
   ]
  },
  {
   "cell_type": "code",
   "execution_count": 56,
   "metadata": {
    "scrolled": true
   },
   "outputs": [],
   "source": [
    "file = pd.DataFrame(output)\n",
    "file.rename(columns={0:'word',1:'index',2:'embedding'},inplace=True)\n",
    "file.to_csv(\"word_embedding.csv\", index = False)"
   ]
  }
 ],
 "metadata": {
  "kernelspec": {
   "display_name": "Python 3",
   "language": "python",
   "name": "python3"
  },
  "language_info": {
   "codemirror_mode": {
    "name": "ipython",
    "version": 3
   },
   "file_extension": ".py",
   "mimetype": "text/x-python",
   "name": "python",
   "nbconvert_exporter": "python",
   "pygments_lexer": "ipython3",
   "version": "3.6.5"
  }
 },
 "nbformat": 4,
 "nbformat_minor": 2
}
