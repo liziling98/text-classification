{
 "cells": [
  {
   "cell_type": "code",
   "execution_count": 1,
   "metadata": {},
   "outputs": [
    {
     "name": "stderr",
     "output_type": "stream",
     "text": [
      "C:\\Anaconda\\lib\\site-packages\\sklearn\\ensemble\\weight_boosting.py:29: DeprecationWarning: numpy.core.umath_tests is an internal NumPy module and should not be imported. It will be removed in a future NumPy release.\n",
      "  from numpy.core.umath_tests import inner1d\n"
     ]
    }
   ],
   "source": [
    "import csv\n",
    "import itertools\n",
    "import pandas as pd\n",
    "import numpy as np\n",
    "import nltk\n",
    "from nltk import word_tokenize\n",
    "from nltk.tokenize import RegexpTokenizer\n",
    "from nltk.corpus import stopwords\n",
    "from sklearn.feature_extraction.text import TfidfVectorizer\n",
    "from sklearn.decomposition import TruncatedSVD\n",
    "from sklearn.tree import DecisionTreeClassifier\n",
    "from sklearn.metrics import f1_score\n",
    "from sklearn.neighbors import KNeighborsClassifier\n",
    "from sklearn.multioutput import MultiOutputClassifier\n",
    "from sklearn.ensemble import RandomForestClassifier\n",
    "from sklearn import svm\n",
    "from sklearn.svm import SVC"
   ]
  },
  {
   "cell_type": "code",
   "execution_count": 2,
   "metadata": {},
   "outputs": [],
   "source": [
    "info = {}\n",
    "with open('id_label_text_small.csv', newline='') as csvfile:\n",
    "    reader = csv.DictReader(csvfile)\n",
    "    for row in reader:\n",
    "        temp = {}\n",
    "        temp['itemid'] = row['itemid']\n",
    "        temp['codes'] = row['codes']\n",
    "        temp['title'] = row['title']\n",
    "        temp['text'] = row['text']\n",
    "        info[row['itemid']] = temp\n",
    "    csvfile.close()"
   ]
  },
  {
   "cell_type": "code",
   "execution_count": 3,
   "metadata": {},
   "outputs": [],
   "source": [
    "def text_clean(text):\n",
    "    #tokenisation\n",
    "    tokenizer = RegexpTokenizer(r'\\w+')\n",
    "    tokens = tokenizer.tokenize(text)\n",
    "    # stemming\n",
    "    for i in range(len(tokens)):\n",
    "        tokens[i] = stemmer.stem(tokens[i])\n",
    "    # remove stop words\n",
    "    test_remove_ = [i for i in tokens if i not in stop]\n",
    "    return test_remove_\n",
    "\n",
    "def code_clean(code):\n",
    "    temp = code.replace(\"[\", \"\").replace(\"]\",\"\").replace(\"\\'\", \"\").replace(\" \", \"\")\n",
    "    return temp.split(\",\")\n",
    "\n",
    "stop = stopwords.words('english') #+ list(string.punctuation)\n",
    "stemmer = nltk.PorterStemmer()\n",
    "for itemid, content in info.items():\n",
    "    content['text'] = text_clean(content['text'])\n",
    "    content['codes'] = code_clean(content['codes'])"
   ]
  },
  {
   "cell_type": "code",
   "execution_count": 4,
   "metadata": {},
   "outputs": [],
   "source": [
    "f = open(\"industry.txt\", \"r\")\n",
    "industry = f.read()\n",
    "f.close()\n",
    "industry_codes = code_clean(industry)\n",
    "\n",
    "f = open(\"region.txt\", \"r\")\n",
    "region = f.read()\n",
    "f.close()\n",
    "region_codes = code_clean(region)\n",
    "\n",
    "f = open(\"topics.txt\", \"r\")\n",
    "topics = f.read()\n",
    "f.close()\n",
    "topic_codes = code_clean(topics)"
   ]
  },
  {
   "cell_type": "code",
   "execution_count": 5,
   "metadata": {},
   "outputs": [],
   "source": [
    "def check_code_exist(lis, codes_lis, temp):\n",
    "    for code in codes_lis:\n",
    "        if code in lis:\n",
    "            temp.append(1)\n",
    "        else:\n",
    "            temp.append(0)\n",
    "            \n",
    "for idx, content in info.items():\n",
    "    industry_lis = []\n",
    "    region_lis = []\n",
    "    topic_lis = []\n",
    "    check_code_exist(content['codes'], industry_codes, industry_lis)\n",
    "    check_code_exist(content['codes'], region_codes, region_lis)\n",
    "    check_code_exist(content['codes'], topic_codes, topic_lis)\n",
    "    content['industry'] = industry_lis\n",
    "    content['region'] = region_lis\n",
    "    content['topic'] = topic_lis"
   ]
  },
  {
   "cell_type": "code",
   "execution_count": 6,
   "metadata": {},
   "outputs": [],
   "source": [
    "corpus = []\n",
    "industry_label = []\n",
    "region_label = []\n",
    "topic_label = []\n",
    "all_label = []\n",
    "i = 0\n",
    "for idx, content in info.items():\n",
    "    str_ = ''\n",
    "    for word in content['text']:\n",
    "        str_ += word\n",
    "        str_ += ' '\n",
    "    str_ += content['title']\n",
    "    corpus.append(str_)\n",
    "    industry_label.append(content['industry'])\n",
    "    region_label.append(content['region'])\n",
    "    topic_label.append(content['topic'])\n",
    "    \n",
    "vectorizer = TfidfVectorizer()\n",
    "X = vectorizer.fit_transform(corpus)\n",
    "industry_label = np.array(industry_label)\n",
    "region_label = np.array(region_label)\n",
    "topic_label = np.array(topic_label)\n",
    "all_label = np.array(all_label)\n",
    "\n",
    "train = X[:7000]\n",
    "train_label = all_label[:7000]\n",
    "train_label_in = industry_label[:7000]\n",
    "train_label_re = region_label[:7000]\n",
    "train_label_to = topic_label[:7000]\n",
    "\n",
    "test = X[7000:]\n",
    "test_label = all_label[7000:]\n",
    "test_label_in = industry_label[7000:]\n",
    "test_label_re = region_label[7000:]\n",
    "test_label_to = topic_label[7000:]"
   ]
  },
  {
   "cell_type": "code",
   "execution_count": 7,
   "metadata": {},
   "outputs": [
    {
     "name": "stdout",
     "output_type": "stream",
     "text": [
      "0.6200283652351444\n"
     ]
    }
   ],
   "source": [
    "dtc_in = DecisionTreeClassifier(criterion = 'gini', max_depth= 20, min_samples_leaf= 2)\n",
    "dtc_model_in = dtc_in.fit(train, train_label_in)\n",
    "dtc_prediction_in = dtc_model_in.predict(test)\n",
    "true = list(itertools.chain.from_iterable(test_label_in))\n",
    "pred = list(itertools.chain.from_iterable(dtc_prediction_in))\n",
    "dtc_in_f1 = f1_score(true, pred, average = 'macro')\n",
    "print(dtc_in_f1)"
   ]
  },
  {
   "cell_type": "code",
   "execution_count": 8,
   "metadata": {},
   "outputs": [
    {
     "name": "stdout",
     "output_type": "stream",
     "text": [
      "0.8068770098644188\n"
     ]
    }
   ],
   "source": [
    "dtc_to = DecisionTreeClassifier(criterion= 'gini', max_depth= 20, min_samples_leaf= 1)\n",
    "dtc_model_to = dtc_to.fit(train, train_label_to)\n",
    "dtc_prediction_to = dtc_model_to.predict(test)\n",
    "true = list(itertools.chain.from_iterable(test_label_to))\n",
    "pred = list(itertools.chain.from_iterable(dtc_prediction_to))\n",
    "dtc_to_f1 = f1_score(true, pred, average = 'macro')\n",
    "print(dtc_to_f1)"
   ]
  },
  {
   "cell_type": "code",
   "execution_count": 9,
   "metadata": {},
   "outputs": [
    {
     "name": "stdout",
     "output_type": "stream",
     "text": [
      "0.8754086079590286\n"
     ]
    }
   ],
   "source": [
    "dtc_re = DecisionTreeClassifier(criterion= 'gini', max_depth= 25, min_samples_leaf= 2)\n",
    "dtc_model_re = dtc_re.fit(train, train_label_re)\n",
    "dtc_prediction_re = dtc_model_re.predict(test)\n",
    "true = list(itertools.chain.from_iterable(test_label_re))\n",
    "pred = list(itertools.chain.from_iterable(dtc_prediction_re))\n",
    "dtc_re_f1 = f1_score(true, pred, average = 'macro')\n",
    "print(dtc_re_f1)"
   ]
  }
 ],
 "metadata": {
  "kernelspec": {
   "display_name": "Python 3",
   "language": "python",
   "name": "python3"
  },
  "language_info": {
   "codemirror_mode": {
    "name": "ipython",
    "version": 3
   },
   "file_extension": ".py",
   "mimetype": "text/x-python",
   "name": "python",
   "nbconvert_exporter": "python",
   "pygments_lexer": "ipython3",
   "version": "3.6.5"
  }
 },
 "nbformat": 4,
 "nbformat_minor": 2
}
