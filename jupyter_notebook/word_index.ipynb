{
 "cells": [
  {
   "cell_type": "code",
   "execution_count": 1,
   "metadata": {},
   "outputs": [
    {
     "name": "stderr",
     "output_type": "stream",
     "text": [
      "[nltk_data] Downloading package stopwords to\n",
      "[nltk_data]     C:\\Users\\li\\AppData\\Roaming\\nltk_data...\n",
      "[nltk_data]   Package stopwords is already up-to-date!\n"
     ]
    }
   ],
   "source": [
    "import torch\n",
    "import torch.nn as nn\n",
    "import csv\n",
    "import itertools\n",
    "import pandas as pd\n",
    "import numpy as np\n",
    "import nltk\n",
    "from nltk import word_tokenize\n",
    "from nltk.tokenize import RegexpTokenizer\n",
    "from nltk.corpus import stopwords\n",
    "from sklearn.metrics import f1_score\n",
    "from torch import optim\n",
    "from torch.utils.data import TensorDataset, DataLoader\n",
    "from sklearn.metrics import f1_score\n",
    "import sys"
   ]
  },
  {
   "cell_type": "markdown",
   "metadata": {},
   "source": [
    "加载新闻文件，将其中所有单词提取出，转换为word index"
   ]
  },
  {
   "cell_type": "code",
   "execution_count": null,
   "metadata": {},
   "outputs": [],
   "source": [
    "# =============================================================\n",
    "# loading data and preprocessing\n",
    "# =============================================================\n",
    "\n",
    "def load_data(filename):\n",
    "    container = {}\n",
    "    with open(filename, newline='') as csvfile:\n",
    "        reader = csv.DictReader(csvfile)\n",
    "        for row in reader:\n",
    "            temp = {}\n",
    "            temp['itemid'] = row['itemid']\n",
    "            temp['codes'] = row['codes']\n",
    "            temp['text'] = row['text']\n",
    "            container[row['itemid']] = temp\n",
    "        csvfile.close()\n",
    "    return container\n",
    "\n",
    "def text_clean(text):\n",
    "    #tokenisation\n",
    "    tokenizer = RegexpTokenizer(r'\\w+')\n",
    "    tokens = tokenizer.tokenize(text)\n",
    "    # stemming\n",
    "    for i in range(len(tokens)):\n",
    "        tokens[i] = stemmer.stem(tokens[i])\n",
    "    # remove stop words\n",
    "    test_remove_ = [i for i in tokens if i not in stop]\n",
    "    return test_remove_\n",
    "\n",
    "def code_clean(code):\n",
    "    temp = code.replace(\"[\", \"\").replace(\"]\",\"\").replace(\"\\'\", \"\").replace(\" \", \"\")\n",
    "    return temp.split(\",\")\n",
    "\n",
    "nltk.download('stopwords')\n",
    "stop = stopwords.words('english') #+ list(string.punctuation)\n",
    "stemmer = nltk.PorterStemmer()"
   ]
  },
  {
   "cell_type": "code",
   "execution_count": null,
   "metadata": {},
   "outputs": [],
   "source": [
    "# get codes and text after preprocessing\n",
    "filename = 'whole_data.csv'\n",
    "info = load_data(filename)\n",
    "for itemid, content in info.items():\n",
    "    content['text'] = text_clean(content['text'])\n",
    "\n",
    "# constructing dataset for trainging and testing\n",
    "x_train = []\n",
    "for itemid, content in info.items():\n",
    "    x_train.append(content['text'])"
   ]
  },
  {
   "cell_type": "code",
   "execution_count": null,
   "metadata": {},
   "outputs": [],
   "source": [
    "# word to index\n",
    "corpus = [sentence for sentence in x_train]\n",
    "vocabulary = set(itertools.chain.from_iterable(corpus))\n",
    "word2idx = {w: idx for (idx, w) in enumerate(vocabulary)}"
   ]
  },
  {
   "cell_type": "code",
   "execution_count": 3,
   "metadata": {},
   "outputs": [
    {
     "data": {
      "text/plain": [
       "59676"
      ]
     },
     "execution_count": 3,
     "metadata": {},
     "output_type": "execute_result"
    }
   ],
   "source": [
    "len(word2idx)"
   ]
  },
  {
   "cell_type": "code",
   "execution_count": 4,
   "metadata": {},
   "outputs": [],
   "source": [
    "word_index = []\n",
    "for k,v in word2idx.items():\n",
    "    word_index.append([k, v])"
   ]
  },
  {
   "cell_type": "markdown",
   "metadata": {},
   "source": [
    "输出为csv文件"
   ]
  },
  {
   "cell_type": "code",
   "execution_count": 5,
   "metadata": {},
   "outputs": [],
   "source": [
    "df = pd.DataFrame(word_index)\n",
    "df.rename(columns={0:'word',1:'index'},inplace=True)\n",
    "df.to_csv(\"word_index.csv\", index = False)"
   ]
  }
 ],
 "metadata": {
  "kernelspec": {
   "display_name": "Python 3",
   "language": "python",
   "name": "python3"
  },
  "language_info": {
   "codemirror_mode": {
    "name": "ipython",
    "version": 3
   },
   "file_extension": ".py",
   "mimetype": "text/x-python",
   "name": "python",
   "nbconvert_exporter": "python",
   "pygments_lexer": "ipython3",
   "version": "3.6.5"
  }
 },
 "nbformat": 4,
 "nbformat_minor": 2
}
